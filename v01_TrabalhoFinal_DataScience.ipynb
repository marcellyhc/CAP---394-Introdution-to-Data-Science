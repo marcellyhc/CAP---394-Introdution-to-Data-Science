{
 "cells": [
  {
   "cell_type": "markdown",
   "metadata": {},
   "source": [
    "![title](CBMpy.png)"
   ]
  },
  {
   "cell_type": "markdown",
   "metadata": {},
   "source": [
    "**INSTITUTO NACIONAL DE PESQUISAS ESPACIAIS** \n",
    "\n",
    "Disciplina: Introdution to Data Science\n",
    "    \n",
    "Professores: Rafael Santos e Gilberto Queiroz\n",
    "    \n",
    "Acadêmica: Marcelly Homem Coelho\n",
    "    \n",
    "Contato: marcellyhc@gmail.com "
   ]
  },
  {
   "cell_type": "markdown",
   "metadata": {},
   "source": [
    "**Título:** Aplicação de Técnicas de Data Science no Desenvolvimento de um Sistema para Manutenção Aeronáutica Baseada em Condição \n",
    "\n",
    "**Descrição:** Este programa tem como objetivo analisar as mensagens de falha e as remoções dos sistemas das aeronaves."
   ]
  },
  {
   "cell_type": "code",
   "execution_count": 8,
   "metadata": {},
   "outputs": [
    {
     "data": {
      "text/html": [
       "        <script type=\"text/javascript\">\n",
       "        window.PlotlyConfig = {MathJaxConfig: 'local'};\n",
       "        if (window.MathJax) {MathJax.Hub.Config({SVG: {font: \"STIX-Web\"}});}\n",
       "        if (typeof require !== 'undefined') {\n",
       "        require.undef(\"plotly\");\n",
       "        requirejs.config({\n",
       "            paths: {\n",
       "                'plotly': ['https://cdn.plot.ly/plotly-latest.min']\n",
       "            }\n",
       "        });\n",
       "        require(['plotly'], function(Plotly) {\n",
       "            window._Plotly = Plotly;\n",
       "        });\n",
       "        }\n",
       "        </script>\n",
       "        "
      ]
     },
     "metadata": {},
     "output_type": "display_data"
    }
   ],
   "source": [
    "# Importar as bibliotecas\n",
    "\n",
    "import numpy as np\n",
    "import pandas as pd\n",
    "import seaborn as sns\n",
    "\n",
    "import random\n",
    "\n",
    "import plotly.offline as py\n",
    "import plotly.graph_objs as go\n",
    "py.init_notebook_mode(connected=True)\n",
    "\n",
    "import matplotlib.pyplot as plt\n",
    "%matplotlib inline"
   ]
  },
  {
   "cell_type": "markdown",
   "metadata": {},
   "source": [
    "# 1. Investigação Inicial da Estrutura e Conteúdo do Arquivo de Falha"
   ]
  },
  {
   "cell_type": "code",
   "execution_count": 9,
   "metadata": {},
   "outputs": [],
   "source": [
    "# Criar um dataframe para entrada de dados de falha (arquivo do tipo .csv)\n",
    "\n",
    "df_dataFailure = pd.read_csv('CBMpy_dataFailureCode.csv')   "
   ]
  },
  {
   "cell_type": "code",
   "execution_count": 10,
   "metadata": {},
   "outputs": [
    {
     "data": {
      "text/html": [
       "<div>\n",
       "<style scoped>\n",
       "    .dataframe tbody tr th:only-of-type {\n",
       "        vertical-align: middle;\n",
       "    }\n",
       "\n",
       "    .dataframe tbody tr th {\n",
       "        vertical-align: top;\n",
       "    }\n",
       "\n",
       "    .dataframe thead th {\n",
       "        text-align: right;\n",
       "    }\n",
       "</style>\n",
       "<table border=\"1\" class=\"dataframe\">\n",
       "  <thead>\n",
       "    <tr style=\"text-align: right;\">\n",
       "      <th></th>\n",
       "      <th>Aircraft</th>\n",
       "      <th>Flight Phase</th>\n",
       "      <th>Date</th>\n",
       "      <th>Fault Text</th>\n",
       "      <th>Maintenance Message</th>\n",
       "    </tr>\n",
       "  </thead>\n",
       "  <tbody>\n",
       "    <tr>\n",
       "      <th>0</th>\n",
       "      <td>2640</td>\n",
       "      <td>NaN</td>\n",
       "      <td>2006-05-14 16:19:00</td>\n",
       "      <td>FDE_Outhers02</td>\n",
       "      <td>NaN</td>\n",
       "    </tr>\n",
       "    <tr>\n",
       "      <th>1</th>\n",
       "      <td>2640</td>\n",
       "      <td>Enroute Cruise</td>\n",
       "      <td>2006-07-01 15:17:00</td>\n",
       "      <td>FDE_B_System3</td>\n",
       "      <td>MMSG_A_System3</td>\n",
       "    </tr>\n",
       "    <tr>\n",
       "      <th>2</th>\n",
       "      <td>2640</td>\n",
       "      <td>Enroute Cruise</td>\n",
       "      <td>2006-07-01 15:17:00</td>\n",
       "      <td>FDE_C_System3</td>\n",
       "      <td>MMSG_A_System3</td>\n",
       "    </tr>\n",
       "    <tr>\n",
       "      <th>3</th>\n",
       "      <td>2640</td>\n",
       "      <td>Enroute Cruise</td>\n",
       "      <td>2006-07-02 04:48:00</td>\n",
       "      <td>FDE_B_System3</td>\n",
       "      <td>MMSG_A_System3</td>\n",
       "    </tr>\n",
       "    <tr>\n",
       "      <th>4</th>\n",
       "      <td>2640</td>\n",
       "      <td>Enroute Cruise</td>\n",
       "      <td>2006-07-02 04:48:00</td>\n",
       "      <td>FDE_C_System3</td>\n",
       "      <td>MMSG_A_System3</td>\n",
       "    </tr>\n",
       "  </tbody>\n",
       "</table>\n",
       "</div>"
      ],
      "text/plain": [
       "   Aircraft    Flight Phase                 Date     Fault Text  \\\n",
       "0      2640             NaN  2006-05-14 16:19:00  FDE_Outhers02   \n",
       "1      2640  Enroute Cruise  2006-07-01 15:17:00  FDE_B_System3   \n",
       "2      2640  Enroute Cruise  2006-07-01 15:17:00  FDE_C_System3   \n",
       "3      2640  Enroute Cruise  2006-07-02 04:48:00  FDE_B_System3   \n",
       "4      2640  Enroute Cruise  2006-07-02 04:48:00  FDE_C_System3   \n",
       "\n",
       "  Maintenance Message  \n",
       "0                 NaN  \n",
       "1      MMSG_A_System3  \n",
       "2      MMSG_A_System3  \n",
       "3      MMSG_A_System3  \n",
       "4      MMSG_A_System3  "
      ]
     },
     "execution_count": 10,
     "metadata": {},
     "output_type": "execute_result"
    }
   ],
   "source": [
    "# Exibir o cabeçalho do dataframe\n",
    "\n",
    "df_dataFailure.head()"
   ]
  },
  {
   "cell_type": "code",
   "execution_count": 11,
   "metadata": {},
   "outputs": [
    {
     "data": {
      "text/plain": [
       "(7238, 5)"
      ]
     },
     "execution_count": 11,
     "metadata": {},
     "output_type": "execute_result"
    }
   ],
   "source": [
    "# Verifica a dimensão do dataframe (qtd linhas, qtd colunas)\n",
    "\n",
    "df_dataFailure.shape"
   ]
  },
  {
   "cell_type": "code",
   "execution_count": 12,
   "metadata": {},
   "outputs": [
    {
     "data": {
      "text/plain": [
       "Aircraft                int64\n",
       "Flight Phase           object\n",
       "Date                   object\n",
       "Fault Text             object\n",
       "Maintenance Message    object\n",
       "dtype: object"
      ]
     },
     "execution_count": 12,
     "metadata": {},
     "output_type": "execute_result"
    }
   ],
   "source": [
    "# Verificar o tipo de dado de cada coluna do dataframe\n",
    "\n",
    "df_dataFailure.dtypes"
   ]
  },
  {
   "cell_type": "code",
   "execution_count": 16,
   "metadata": {},
   "outputs": [],
   "source": [
    "# Converter os dados da coluna 'Date' para o formato de data-hora\n",
    "\n",
    "df_dataFailure['Date'] =  pd.to_datetime(df_dataFailure['Date'], format='%Y/%m/%d %H:%M')"
   ]
  },
  {
   "cell_type": "code",
   "execution_count": 17,
   "metadata": {},
   "outputs": [
    {
     "data": {
      "text/plain": [
       "Aircraft                        int64\n",
       "Flight Phase                   object\n",
       "Date                   datetime64[ns]\n",
       "Fault Text                     object\n",
       "Maintenance Message            object\n",
       "dtype: object"
      ]
     },
     "execution_count": 17,
     "metadata": {},
     "output_type": "execute_result"
    }
   ],
   "source": [
    "# Verificar o tipo de dado de cada coluna do dataframe\n",
    "\n",
    "df_dataFailure.dtypes"
   ]
  },
  {
   "cell_type": "code",
   "execution_count": 18,
   "metadata": {},
   "outputs": [
    {
     "data": {
      "text/plain": [
       "15"
      ]
     },
     "execution_count": 18,
     "metadata": {},
     "output_type": "execute_result"
    }
   ],
   "source": [
    "# Determinar quantas 'Flight Phase' diferentes há no dataframe\n",
    "\n",
    "len(df_dataFailure['Aircraft'].unique())"
   ]
  },
  {
   "cell_type": "code",
   "execution_count": 19,
   "metadata": {},
   "outputs": [
    {
     "data": {
      "text/plain": [
       "2766    1059\n",
       "1950     728\n",
       "1990     668\n",
       "1151     626\n",
       "2640     560\n",
       "326      475\n",
       "131      465\n",
       "2436     421\n",
       "1419     419\n",
       "791      417\n",
       "2838     369\n",
       "2209     324\n",
       "312      268\n",
       "1710     243\n",
       "2982     196\n",
       "Name: Aircraft, dtype: int64"
      ]
     },
     "execution_count": 19,
     "metadata": {},
     "output_type": "execute_result"
    }
   ],
   "source": [
    "# Verificar quais 'Aircraft' apresentaram maior quantidade de Mensagens de Falha  \n",
    "\n",
    "df_dataFailure['Aircraft'].value_counts()"
   ]
  },
  {
   "cell_type": "markdown",
   "metadata": {},
   "source": [
    "$\\color{red}{\\text{OBSERVAÇÃO:}}$ O Aircraft igual a 2766 é o que apresenta a maior quantidade de Fault Text. Além disso, é o segundo em relação a quantidade de remoções de peças."
   ]
  },
  {
   "cell_type": "markdown",
   "metadata": {},
   "source": [
    "## 1.1 Análise das Mensagens de Falha de um Aircraft Específico"
   ]
  },
  {
   "cell_type": "code",
   "execution_count": 20,
   "metadata": {},
   "outputs": [],
   "source": [
    "# Definir uma variável para a seleção de um arcraft específico\n",
    "\n",
    "var_aircraftSelected = 2766"
   ]
  },
  {
   "cell_type": "code",
   "execution_count": 21,
   "metadata": {},
   "outputs": [],
   "source": [
    "# Criar um dataframe para o aircraft específico \n",
    "\n",
    "df_dataFailure_airSelec = df_dataFailure[df_dataFailure['Aircraft'] == var_aircraftSelected]"
   ]
  },
  {
   "cell_type": "code",
   "execution_count": 22,
   "metadata": {},
   "outputs": [
    {
     "data": {
      "text/html": [
       "<div>\n",
       "<style scoped>\n",
       "    .dataframe tbody tr th:only-of-type {\n",
       "        vertical-align: middle;\n",
       "    }\n",
       "\n",
       "    .dataframe tbody tr th {\n",
       "        vertical-align: top;\n",
       "    }\n",
       "\n",
       "    .dataframe thead th {\n",
       "        text-align: right;\n",
       "    }\n",
       "</style>\n",
       "<table border=\"1\" class=\"dataframe\">\n",
       "  <thead>\n",
       "    <tr style=\"text-align: right;\">\n",
       "      <th></th>\n",
       "      <th>Aircraft</th>\n",
       "      <th>Flight Phase</th>\n",
       "      <th>Date</th>\n",
       "      <th>Fault Text</th>\n",
       "      <th>Maintenance Message</th>\n",
       "    </tr>\n",
       "  </thead>\n",
       "  <tbody>\n",
       "    <tr>\n",
       "      <th>1492</th>\n",
       "      <td>2766</td>\n",
       "      <td>Power On</td>\n",
       "      <td>2006-04-19 13:29:00</td>\n",
       "      <td>FDE_Outhers00</td>\n",
       "      <td>MMSG_Others04</td>\n",
       "    </tr>\n",
       "    <tr>\n",
       "      <th>1493</th>\n",
       "      <td>2766</td>\n",
       "      <td>Power On</td>\n",
       "      <td>2006-04-19 13:29:00</td>\n",
       "      <td>FDE_Outhers00</td>\n",
       "      <td>MMSG_Others04</td>\n",
       "    </tr>\n",
       "    <tr>\n",
       "      <th>1494</th>\n",
       "      <td>2766</td>\n",
       "      <td>Power On</td>\n",
       "      <td>2006-04-21 16:12:00</td>\n",
       "      <td>FDE_Outhers00</td>\n",
       "      <td>MMSG_Others04</td>\n",
       "    </tr>\n",
       "    <tr>\n",
       "      <th>1495</th>\n",
       "      <td>2766</td>\n",
       "      <td>Power On</td>\n",
       "      <td>2006-04-21 16:12:00</td>\n",
       "      <td>FDE_Outhers00</td>\n",
       "      <td>MMSG_Others04</td>\n",
       "    </tr>\n",
       "    <tr>\n",
       "      <th>1496</th>\n",
       "      <td>2766</td>\n",
       "      <td>Initial Climb</td>\n",
       "      <td>2006-04-22 19:59:00</td>\n",
       "      <td>FDE_E_System1</td>\n",
       "      <td>MMSG_F_System1</td>\n",
       "    </tr>\n",
       "  </tbody>\n",
       "</table>\n",
       "</div>"
      ],
      "text/plain": [
       "      Aircraft   Flight Phase                Date     Fault Text  \\\n",
       "1492      2766       Power On 2006-04-19 13:29:00  FDE_Outhers00   \n",
       "1493      2766       Power On 2006-04-19 13:29:00  FDE_Outhers00   \n",
       "1494      2766       Power On 2006-04-21 16:12:00  FDE_Outhers00   \n",
       "1495      2766       Power On 2006-04-21 16:12:00  FDE_Outhers00   \n",
       "1496      2766  Initial Climb 2006-04-22 19:59:00  FDE_E_System1   \n",
       "\n",
       "     Maintenance Message  \n",
       "1492       MMSG_Others04  \n",
       "1493       MMSG_Others04  \n",
       "1494       MMSG_Others04  \n",
       "1495       MMSG_Others04  \n",
       "1496      MMSG_F_System1  "
      ]
     },
     "execution_count": 22,
     "metadata": {},
     "output_type": "execute_result"
    }
   ],
   "source": [
    "# Exibir o cabeçalho do dataframe\n",
    "\n",
    "df_dataFailure_airSelec.head()"
   ]
  },
  {
   "cell_type": "code",
   "execution_count": 57,
   "metadata": {},
   "outputs": [
    {
     "data": {
      "text/plain": [
       "(1059, 5)"
      ]
     },
     "execution_count": 57,
     "metadata": {},
     "output_type": "execute_result"
    }
   ],
   "source": [
    "# Verifica a dimensão do dataframe (qtd linhas, qtd colunas)\n",
    "\n",
    "df_dataFailure_airSelec.shape"
   ]
  },
  {
   "cell_type": "markdown",
   "metadata": {},
   "source": [
    "# 2. Investigação Inicial da Estrutura e Conteúdo do Arquivo de Remoção"
   ]
  },
  {
   "cell_type": "code",
   "execution_count": 42,
   "metadata": {},
   "outputs": [],
   "source": [
    "# Criar um dataframe para entrada de dados de remoção (arquivo do tipo .csv)\n",
    "\n",
    "df_dataRemoval = pd.read_csv('CBMpy_dataRemovalCode.csv')  "
   ]
  },
  {
   "cell_type": "code",
   "execution_count": 43,
   "metadata": {},
   "outputs": [
    {
     "data": {
      "text/html": [
       "<div>\n",
       "<style scoped>\n",
       "    .dataframe tbody tr th:only-of-type {\n",
       "        vertical-align: middle;\n",
       "    }\n",
       "\n",
       "    .dataframe tbody tr th {\n",
       "        vertical-align: top;\n",
       "    }\n",
       "\n",
       "    .dataframe thead th {\n",
       "        text-align: right;\n",
       "    }\n",
       "</style>\n",
       "<table border=\"1\" class=\"dataframe\">\n",
       "  <thead>\n",
       "    <tr style=\"text-align: right;\">\n",
       "      <th></th>\n",
       "      <th>Aircraft</th>\n",
       "      <th>Component</th>\n",
       "      <th>System</th>\n",
       "      <th>Date</th>\n",
       "      <th>Reason</th>\n",
       "      <th>Time Hours</th>\n",
       "      <th>Time Cycles</th>\n",
       "    </tr>\n",
       "  </thead>\n",
       "  <tbody>\n",
       "    <tr>\n",
       "      <th>0</th>\n",
       "      <td>1140</td>\n",
       "      <td>REM_Component_A</td>\n",
       "      <td>System1</td>\n",
       "      <td>2006-05-29</td>\n",
       "      <td>3</td>\n",
       "      <td>118123</td>\n",
       "      <td>15961</td>\n",
       "    </tr>\n",
       "    <tr>\n",
       "      <th>1</th>\n",
       "      <td>1140</td>\n",
       "      <td>REM_Component_A</td>\n",
       "      <td>System1</td>\n",
       "      <td>2006-05-29</td>\n",
       "      <td>3</td>\n",
       "      <td>118123</td>\n",
       "      <td>15961</td>\n",
       "    </tr>\n",
       "    <tr>\n",
       "      <th>2</th>\n",
       "      <td>1140</td>\n",
       "      <td>REM_Component_B</td>\n",
       "      <td>System1</td>\n",
       "      <td>2006-05-29</td>\n",
       "      <td>3</td>\n",
       "      <td>1092</td>\n",
       "      <td>139</td>\n",
       "    </tr>\n",
       "    <tr>\n",
       "      <th>3</th>\n",
       "      <td>1140</td>\n",
       "      <td>REM_Component_B</td>\n",
       "      <td>System3</td>\n",
       "      <td>2006-06-24</td>\n",
       "      <td>3</td>\n",
       "      <td>312</td>\n",
       "      <td>37</td>\n",
       "    </tr>\n",
       "    <tr>\n",
       "      <th>4</th>\n",
       "      <td>1140</td>\n",
       "      <td>REM_Component_B</td>\n",
       "      <td>System3</td>\n",
       "      <td>2006-07-10</td>\n",
       "      <td>3</td>\n",
       "      <td>118698</td>\n",
       "      <td>16028</td>\n",
       "    </tr>\n",
       "  </tbody>\n",
       "</table>\n",
       "</div>"
      ],
      "text/plain": [
       "   Aircraft        Component   System        Date  Reason  Time Hours  \\\n",
       "0      1140  REM_Component_A  System1  2006-05-29       3      118123   \n",
       "1      1140  REM_Component_A  System1  2006-05-29       3      118123   \n",
       "2      1140  REM_Component_B  System1  2006-05-29       3        1092   \n",
       "3      1140  REM_Component_B  System3  2006-06-24       3         312   \n",
       "4      1140  REM_Component_B  System3  2006-07-10       3      118698   \n",
       "\n",
       "   Time Cycles   \n",
       "0         15961  \n",
       "1         15961  \n",
       "2           139  \n",
       "3            37  \n",
       "4         16028  "
      ]
     },
     "execution_count": 43,
     "metadata": {},
     "output_type": "execute_result"
    }
   ],
   "source": [
    "# Exibir do cabeçalho do dataframe\n",
    "\n",
    "df_dataRemoval.head()"
   ]
  },
  {
   "cell_type": "code",
   "execution_count": 44,
   "metadata": {},
   "outputs": [
    {
     "data": {
      "text/plain": [
       "(1282, 7)"
      ]
     },
     "execution_count": 44,
     "metadata": {},
     "output_type": "execute_result"
    }
   ],
   "source": [
    "# Verifica a dimensão do dataframe (qtd linhas, qtd colunas)\n",
    "\n",
    "df_dataRemoval.shape"
   ]
  },
  {
   "cell_type": "code",
   "execution_count": 45,
   "metadata": {},
   "outputs": [
    {
     "data": {
      "text/plain": [
       "Aircraft         int64\n",
       "Component       object\n",
       "System          object\n",
       "Date            object\n",
       "Reason           int64\n",
       "Time Hours       int64\n",
       "Time Cycles      int64\n",
       "dtype: object"
      ]
     },
     "execution_count": 45,
     "metadata": {},
     "output_type": "execute_result"
    }
   ],
   "source": [
    "# Verificar o tipo de dado de cada coluna do dataframe\n",
    "\n",
    "df_dataRemoval.dtypes"
   ]
  },
  {
   "cell_type": "code",
   "execution_count": 46,
   "metadata": {},
   "outputs": [],
   "source": [
    "# Converter os dados da coluna 'Date' para o formato de data\n",
    "\n",
    "df_dataRemoval['Date'] =  pd.to_datetime(df_dataRemoval['Date'], format='%Y/%m/%d')"
   ]
  },
  {
   "cell_type": "code",
   "execution_count": 47,
   "metadata": {},
   "outputs": [
    {
     "data": {
      "text/plain": [
       "Aircraft                 int64\n",
       "Component               object\n",
       "System                  object\n",
       "Date            datetime64[ns]\n",
       "Reason                   int64\n",
       "Time Hours               int64\n",
       "Time Cycles              int64\n",
       "dtype: object"
      ]
     },
     "execution_count": 47,
     "metadata": {},
     "output_type": "execute_result"
    }
   ],
   "source": [
    "# Verificar o tipo de dado de cada coluna do dataframe\n",
    "\n",
    "df_dataRemoval.dtypes"
   ]
  },
  {
   "cell_type": "code",
   "execution_count": 48,
   "metadata": {},
   "outputs": [
    {
     "data": {
      "text/plain": [
       "17"
      ]
     },
     "execution_count": 48,
     "metadata": {},
     "output_type": "execute_result"
    }
   ],
   "source": [
    "# Determinar quantos 'Component' diferentes há no dataframe\n",
    "\n",
    "len(df_dataRemoval['Component'].unique())"
   ]
  },
  {
   "cell_type": "code",
   "execution_count": 49,
   "metadata": {},
   "outputs": [
    {
     "data": {
      "text/plain": [
       "REM_Component_B    268\n",
       "REM_Component_A    210\n",
       "REM_Component_D    177\n",
       "REM_Component_F    113\n",
       "REM_Component_J     87\n",
       "REM_Component_G     86\n",
       "REM_Component_H     77\n",
       "REM_Component_I     64\n",
       "REM_Component_N     45\n",
       "REM_Component_E     38\n",
       "REM_Component_L     37\n",
       "REM_Component_K     25\n",
       "REM_Component_O     22\n",
       "REM_Component_M     19\n",
       "REM_Component_C      6\n",
       "REM_Component_P      5\n",
       "REM_Component_Q      3\n",
       "Name: Component, dtype: int64"
      ]
     },
     "execution_count": 49,
     "metadata": {},
     "output_type": "execute_result"
    }
   ],
   "source": [
    "# Verificar quais 'Component' foram mais trocados \n",
    "\n",
    "df_dataRemoval['Component'].value_counts()"
   ]
  },
  {
   "cell_type": "code",
   "execution_count": 50,
   "metadata": {},
   "outputs": [
    {
     "data": {
      "text/plain": [
       "2640    99\n",
       "2766    94\n",
       "2361    92\n",
       "2326    91\n",
       "2567    86\n",
       "1950    78\n",
       "2982    74\n",
       "1399    62\n",
       "2838    60\n",
       "2436    59\n",
       "131     55\n",
       "1151    54\n",
       "312     53\n",
       "1990    50\n",
       "1419    49\n",
       "736     46\n",
       "1710    41\n",
       "2209    38\n",
       "791     37\n",
       "326     30\n",
       "1140    25\n",
       "165      9\n",
       "Name: Aircraft, dtype: int64"
      ]
     },
     "execution_count": 50,
     "metadata": {},
     "output_type": "execute_result"
    }
   ],
   "source": [
    "# Verificar quais 'Aircraft' realizaram mais trocas de componentes  \n",
    "\n",
    "df_dataRemoval['Aircraft'].value_counts()"
   ]
  },
  {
   "cell_type": "markdown",
   "metadata": {},
   "source": [
    "## 2.1 Análise das Remoções de um Aircraft Específico"
   ]
  },
  {
   "cell_type": "code",
   "execution_count": 54,
   "metadata": {},
   "outputs": [],
   "source": [
    "# Criar um dataframe para o aircraft específico \n",
    "\n",
    "df_dataRemoval_airSelec = df_dataRemoval[df_dataRemoval['Aircraft'] == var_aircraftSelected]"
   ]
  },
  {
   "cell_type": "code",
   "execution_count": 56,
   "metadata": {},
   "outputs": [
    {
     "data": {
      "text/html": [
       "<div>\n",
       "<style scoped>\n",
       "    .dataframe tbody tr th:only-of-type {\n",
       "        vertical-align: middle;\n",
       "    }\n",
       "\n",
       "    .dataframe tbody tr th {\n",
       "        vertical-align: top;\n",
       "    }\n",
       "\n",
       "    .dataframe thead th {\n",
       "        text-align: right;\n",
       "    }\n",
       "</style>\n",
       "<table border=\"1\" class=\"dataframe\">\n",
       "  <thead>\n",
       "    <tr style=\"text-align: right;\">\n",
       "      <th></th>\n",
       "      <th>Aircraft</th>\n",
       "      <th>Component</th>\n",
       "      <th>System</th>\n",
       "      <th>Date</th>\n",
       "      <th>Reason</th>\n",
       "      <th>Time Hours</th>\n",
       "      <th>Time Cycles</th>\n",
       "    </tr>\n",
       "  </thead>\n",
       "  <tbody>\n",
       "    <tr>\n",
       "      <th>896</th>\n",
       "      <td>2766</td>\n",
       "      <td>REM_Component_D</td>\n",
       "      <td></td>\n",
       "      <td>2006-03-19</td>\n",
       "      <td>3</td>\n",
       "      <td>3782</td>\n",
       "      <td>399</td>\n",
       "    </tr>\n",
       "    <tr>\n",
       "      <th>897</th>\n",
       "      <td>2766</td>\n",
       "      <td>REM_Component_B</td>\n",
       "      <td>System1</td>\n",
       "      <td>2006-03-23</td>\n",
       "      <td>3</td>\n",
       "      <td>95539</td>\n",
       "      <td>10871</td>\n",
       "    </tr>\n",
       "    <tr>\n",
       "      <th>898</th>\n",
       "      <td>2766</td>\n",
       "      <td>REM_Component_B</td>\n",
       "      <td>System1</td>\n",
       "      <td>2006-03-23</td>\n",
       "      <td>3</td>\n",
       "      <td>530</td>\n",
       "      <td>54</td>\n",
       "    </tr>\n",
       "    <tr>\n",
       "      <th>899</th>\n",
       "      <td>2766</td>\n",
       "      <td>REM_Component_A</td>\n",
       "      <td>System2</td>\n",
       "      <td>2006-04-19</td>\n",
       "      <td>3</td>\n",
       "      <td>21438</td>\n",
       "      <td>2265</td>\n",
       "    </tr>\n",
       "    <tr>\n",
       "      <th>900</th>\n",
       "      <td>2766</td>\n",
       "      <td>REM_Component_B</td>\n",
       "      <td>System1</td>\n",
       "      <td>2006-04-23</td>\n",
       "      <td>3</td>\n",
       "      <td>430</td>\n",
       "      <td>44</td>\n",
       "    </tr>\n",
       "  </tbody>\n",
       "</table>\n",
       "</div>"
      ],
      "text/plain": [
       "     Aircraft        Component   System       Date  Reason  Time Hours  \\\n",
       "896      2766  REM_Component_D          2006-03-19       3        3782   \n",
       "897      2766  REM_Component_B  System1 2006-03-23       3       95539   \n",
       "898      2766  REM_Component_B  System1 2006-03-23       3         530   \n",
       "899      2766  REM_Component_A  System2 2006-04-19       3       21438   \n",
       "900      2766  REM_Component_B  System1 2006-04-23       3         430   \n",
       "\n",
       "     Time Cycles   \n",
       "896           399  \n",
       "897         10871  \n",
       "898            54  \n",
       "899          2265  \n",
       "900            44  "
      ]
     },
     "execution_count": 56,
     "metadata": {},
     "output_type": "execute_result"
    }
   ],
   "source": [
    "# Exibir o cabeçalho do dataframe\n",
    "\n",
    "df_dataRemoval_airSelec.head()"
   ]
  },
  {
   "cell_type": "code",
   "execution_count": 58,
   "metadata": {},
   "outputs": [
    {
     "data": {
      "text/plain": [
       "(94, 7)"
      ]
     },
     "execution_count": 58,
     "metadata": {},
     "output_type": "execute_result"
    }
   ],
   "source": [
    "# Verifica a dimensão do dataframe (qtd linhas, qtd colunas)\n",
    "\n",
    "df_dataRemoval_airSelec.shape"
   ]
  }
 ],
 "metadata": {
  "kernelspec": {
   "display_name": "Python 3",
   "language": "python",
   "name": "python3"
  },
  "language_info": {
   "codemirror_mode": {
    "name": "ipython",
    "version": 3
   },
   "file_extension": ".py",
   "mimetype": "text/x-python",
   "name": "python",
   "nbconvert_exporter": "python",
   "pygments_lexer": "ipython3",
   "version": "3.7.1"
  }
 },
 "nbformat": 4,
 "nbformat_minor": 2
}
