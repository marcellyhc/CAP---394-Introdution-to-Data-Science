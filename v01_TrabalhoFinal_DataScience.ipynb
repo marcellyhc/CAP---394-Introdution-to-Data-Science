{
 "cells": [
  {
   "cell_type": "markdown",
   "metadata": {},
   "source": [
    "**INSTITUTO NACIONAL DE PESQUISAS ESPACIAIS** \n",
    "\n",
    "Disciplina: Introdution to Data Science\n",
    "    \n",
    "Professores: Rafael Santos e Gilberto Queiroz\n",
    "    \n",
    "Acadêmica: Marcelly Homem Coelho\n",
    "    \n",
    "Contato: marcellyhc@gmail.com "
   ]
  },
  {
   "cell_type": "markdown",
   "metadata": {},
   "source": [
    "**Título:** Aplicação de Técnicas de Data Science no Desenvolvimento de um Sistema para Manutenção Aeronáutica Baseada em Condição \n",
    "\n",
    "**Descrição:** Este programa tem como objetivo analisar as mensagens de falha e as remoções dos sistemas das aeronaves."
   ]
  },
  {
   "cell_type": "code",
   "execution_count": 26,
   "metadata": {},
   "outputs": [
    {
     "data": {
      "text/html": [
       "        <script type=\"text/javascript\">\n",
       "        window.PlotlyConfig = {MathJaxConfig: 'local'};\n",
       "        if (window.MathJax) {MathJax.Hub.Config({SVG: {font: \"STIX-Web\"}});}\n",
       "        if (typeof require !== 'undefined') {\n",
       "        require.undef(\"plotly\");\n",
       "        requirejs.config({\n",
       "            paths: {\n",
       "                'plotly': ['https://cdn.plot.ly/plotly-latest.min']\n",
       "            }\n",
       "        });\n",
       "        require(['plotly'], function(Plotly) {\n",
       "            window._Plotly = Plotly;\n",
       "        });\n",
       "        }\n",
       "        </script>\n",
       "        "
      ]
     },
     "metadata": {},
     "output_type": "display_data"
    }
   ],
   "source": [
    "# Importar as bibliotecas necessárias\n",
    "\n",
    "import numpy as np\n",
    "import pandas as pd\n",
    "import seaborn as sns\n",
    "\n",
    "import random\n",
    "\n",
    "import plotly.offline as py\n",
    "import plotly.graph_objs as go\n",
    "py.init_notebook_mode(connected=True)\n",
    "\n",
    "import matplotlib.pyplot as plt\n",
    "%matplotlib inline"
   ]
  },
  {
   "cell_type": "markdown",
   "metadata": {},
   "source": [
    "# 1. Investigação Inicial da Estrutura e Conteúdo do Arquivo de Falha"
   ]
  },
  {
   "cell_type": "code",
   "execution_count": 27,
   "metadata": {},
   "outputs": [],
   "source": [
    "# Criar um dataframe para entrada de dados de falha (arquivo do tipo .csv)\n",
    "\n",
    "df_dataFailure = pd.read_csv('Data_Failure_Code.csv')   "
   ]
  },
  {
   "cell_type": "code",
   "execution_count": 28,
   "metadata": {},
   "outputs": [
    {
     "data": {
      "text/html": [
       "<div>\n",
       "<style scoped>\n",
       "    .dataframe tbody tr th:only-of-type {\n",
       "        vertical-align: middle;\n",
       "    }\n",
       "\n",
       "    .dataframe tbody tr th {\n",
       "        vertical-align: top;\n",
       "    }\n",
       "\n",
       "    .dataframe thead th {\n",
       "        text-align: right;\n",
       "    }\n",
       "</style>\n",
       "<table border=\"1\" class=\"dataframe\">\n",
       "  <thead>\n",
       "    <tr style=\"text-align: right;\">\n",
       "      <th></th>\n",
       "      <th>Aircraft</th>\n",
       "      <th>Flight Phase</th>\n",
       "      <th>Date</th>\n",
       "      <th>Fault Text</th>\n",
       "      <th>Report Maintenance</th>\n",
       "    </tr>\n",
       "  </thead>\n",
       "  <tbody>\n",
       "    <tr>\n",
       "      <th>0</th>\n",
       "      <td>2640</td>\n",
       "      <td>NaN</td>\n",
       "      <td>2006-05-14 16:19:00</td>\n",
       "      <td>FDE_Outhers02</td>\n",
       "      <td>NaN</td>\n",
       "    </tr>\n",
       "    <tr>\n",
       "      <th>1</th>\n",
       "      <td>2640</td>\n",
       "      <td>Enroute Cruise</td>\n",
       "      <td>2006-07-01 15:17:00</td>\n",
       "      <td>FDE_B_System3</td>\n",
       "      <td>RMA_A_System3</td>\n",
       "    </tr>\n",
       "    <tr>\n",
       "      <th>2</th>\n",
       "      <td>2640</td>\n",
       "      <td>Enroute Cruise</td>\n",
       "      <td>2006-07-01 15:17:00</td>\n",
       "      <td>FDE_C_System3</td>\n",
       "      <td>RMA_A_System3</td>\n",
       "    </tr>\n",
       "    <tr>\n",
       "      <th>3</th>\n",
       "      <td>2640</td>\n",
       "      <td>Enroute Cruise</td>\n",
       "      <td>2006-07-02 04:48:00</td>\n",
       "      <td>FDE_B_System3</td>\n",
       "      <td>RMA_A_System3</td>\n",
       "    </tr>\n",
       "    <tr>\n",
       "      <th>4</th>\n",
       "      <td>2640</td>\n",
       "      <td>Enroute Cruise</td>\n",
       "      <td>2006-07-02 04:48:00</td>\n",
       "      <td>FDE_C_System3</td>\n",
       "      <td>RMA_A_System3</td>\n",
       "    </tr>\n",
       "  </tbody>\n",
       "</table>\n",
       "</div>"
      ],
      "text/plain": [
       "   Aircraft    Flight Phase                 Date     Fault Text  \\\n",
       "0      2640             NaN  2006-05-14 16:19:00  FDE_Outhers02   \n",
       "1      2640  Enroute Cruise  2006-07-01 15:17:00  FDE_B_System3   \n",
       "2      2640  Enroute Cruise  2006-07-01 15:17:00  FDE_C_System3   \n",
       "3      2640  Enroute Cruise  2006-07-02 04:48:00  FDE_B_System3   \n",
       "4      2640  Enroute Cruise  2006-07-02 04:48:00  FDE_C_System3   \n",
       "\n",
       "  Report Maintenance  \n",
       "0                NaN  \n",
       "1      RMA_A_System3  \n",
       "2      RMA_A_System3  \n",
       "3      RMA_A_System3  \n",
       "4      RMA_A_System3  "
      ]
     },
     "execution_count": 28,
     "metadata": {},
     "output_type": "execute_result"
    }
   ],
   "source": [
    "# Exibir o cabeçalho do dataframe\n",
    "\n",
    "df_dataFailure.head()"
   ]
  },
  {
   "cell_type": "code",
   "execution_count": 29,
   "metadata": {},
   "outputs": [
    {
     "data": {
      "text/plain": [
       "(11, 5)"
      ]
     },
     "execution_count": 29,
     "metadata": {},
     "output_type": "execute_result"
    }
   ],
   "source": [
    "# Verifica a dimensão do dataframe (qtd linhas, qtd colunas)\n",
    "\n",
    "df_dataFailure.shape"
   ]
  },
  {
   "cell_type": "code",
   "execution_count": 30,
   "metadata": {},
   "outputs": [
    {
     "data": {
      "text/plain": [
       "Aircraft               int64\n",
       "Flight Phase          object\n",
       "Date                  object\n",
       "Fault Text            object\n",
       "Report Maintenance    object\n",
       "dtype: object"
      ]
     },
     "execution_count": 30,
     "metadata": {},
     "output_type": "execute_result"
    }
   ],
   "source": [
    "# Verificar o tipo de dado de cada coluna do dataframe\n",
    "\n",
    "df_dataFailure.dtypes"
   ]
  },
  {
   "cell_type": "code",
   "execution_count": 31,
   "metadata": {},
   "outputs": [
    {
     "data": {
      "text/plain": [
       "1"
      ]
     },
     "execution_count": 31,
     "metadata": {},
     "output_type": "execute_result"
    }
   ],
   "source": [
    "# Determina quantas 'Flight Phase' diferentes há no dataframe\n",
    "\n",
    "len(df_dataFailure['Aircraft'].unique())"
   ]
  },
  {
   "cell_type": "markdown",
   "metadata": {},
   "source": [
    "# 2. Investigação Inicial da Estrutura e Conteúdo do Arquivo de Remoção"
   ]
  },
  {
   "cell_type": "code",
   "execution_count": 32,
   "metadata": {},
   "outputs": [],
   "source": [
    "# Criar um dataframe para entrada de dados de remoção (arquivo do tipo .csv)\n",
    "\n",
    "df_dataRemoval = pd.read_csv('Data_Removal_Code.csv')  "
   ]
  },
  {
   "cell_type": "code",
   "execution_count": 33,
   "metadata": {},
   "outputs": [
    {
     "data": {
      "text/html": [
       "<div>\n",
       "<style scoped>\n",
       "    .dataframe tbody tr th:only-of-type {\n",
       "        vertical-align: middle;\n",
       "    }\n",
       "\n",
       "    .dataframe tbody tr th {\n",
       "        vertical-align: top;\n",
       "    }\n",
       "\n",
       "    .dataframe thead th {\n",
       "        text-align: right;\n",
       "    }\n",
       "</style>\n",
       "<table border=\"1\" class=\"dataframe\">\n",
       "  <thead>\n",
       "    <tr style=\"text-align: right;\">\n",
       "      <th></th>\n",
       "      <th>Aircraft</th>\n",
       "      <th>Component</th>\n",
       "      <th>System</th>\n",
       "      <th>Date</th>\n",
       "      <th>Reason</th>\n",
       "      <th>Time Hours</th>\n",
       "      <th>Time Cycles</th>\n",
       "    </tr>\n",
       "  </thead>\n",
       "  <tbody>\n",
       "    <tr>\n",
       "      <th>0</th>\n",
       "      <td>1140</td>\n",
       "      <td>MME_Component_A</td>\n",
       "      <td>System1</td>\n",
       "      <td>2006-05-29</td>\n",
       "      <td>3</td>\n",
       "      <td>118123</td>\n",
       "      <td>15961</td>\n",
       "    </tr>\n",
       "    <tr>\n",
       "      <th>1</th>\n",
       "      <td>1140</td>\n",
       "      <td>MME_Component_A</td>\n",
       "      <td>System1</td>\n",
       "      <td>2006-05-29</td>\n",
       "      <td>3</td>\n",
       "      <td>118123</td>\n",
       "      <td>15961</td>\n",
       "    </tr>\n",
       "    <tr>\n",
       "      <th>2</th>\n",
       "      <td>1140</td>\n",
       "      <td>MME_Component_B</td>\n",
       "      <td>System1</td>\n",
       "      <td>2006-05-29</td>\n",
       "      <td>3</td>\n",
       "      <td>1092</td>\n",
       "      <td>139</td>\n",
       "    </tr>\n",
       "    <tr>\n",
       "      <th>3</th>\n",
       "      <td>1140</td>\n",
       "      <td>MME_Component_B</td>\n",
       "      <td>System3</td>\n",
       "      <td>2006-06-24</td>\n",
       "      <td>3</td>\n",
       "      <td>312</td>\n",
       "      <td>37</td>\n",
       "    </tr>\n",
       "    <tr>\n",
       "      <th>4</th>\n",
       "      <td>1140</td>\n",
       "      <td>MME_Component_B</td>\n",
       "      <td>System3</td>\n",
       "      <td>2006-07-10</td>\n",
       "      <td>3</td>\n",
       "      <td>118698</td>\n",
       "      <td>16028</td>\n",
       "    </tr>\n",
       "  </tbody>\n",
       "</table>\n",
       "</div>"
      ],
      "text/plain": [
       "   Aircraft        Component   System        Date  Reason  Time Hours  \\\n",
       "0      1140  MME_Component_A  System1  2006-05-29       3      118123   \n",
       "1      1140  MME_Component_A  System1  2006-05-29       3      118123   \n",
       "2      1140  MME_Component_B  System1  2006-05-29       3        1092   \n",
       "3      1140  MME_Component_B  System3  2006-06-24       3         312   \n",
       "4      1140  MME_Component_B  System3  2006-07-10       3      118698   \n",
       "\n",
       "   Time Cycles  \n",
       "0        15961  \n",
       "1        15961  \n",
       "2          139  \n",
       "3           37  \n",
       "4        16028  "
      ]
     },
     "execution_count": 33,
     "metadata": {},
     "output_type": "execute_result"
    }
   ],
   "source": [
    "# Exibir do cabeçalho do dataframe\n",
    "\n",
    "df_dataRemoval.head()"
   ]
  },
  {
   "cell_type": "code",
   "execution_count": 34,
   "metadata": {},
   "outputs": [
    {
     "data": {
      "text/plain": [
       "(11, 5)"
      ]
     },
     "execution_count": 34,
     "metadata": {},
     "output_type": "execute_result"
    }
   ],
   "source": [
    "# Verifica a dimensão do dataframe (qtd linhas, qtd colunas)\n",
    "\n",
    "df_dataFailure.shape"
   ]
  },
  {
   "cell_type": "code",
   "execution_count": 35,
   "metadata": {},
   "outputs": [
    {
     "data": {
      "text/plain": [
       "Aircraft               int64\n",
       "Flight Phase          object\n",
       "Date                  object\n",
       "Fault Text            object\n",
       "Report Maintenance    object\n",
       "dtype: object"
      ]
     },
     "execution_count": 35,
     "metadata": {},
     "output_type": "execute_result"
    }
   ],
   "source": [
    "# Verificar o tipo de dado de cada coluna do dataframe\n",
    "\n",
    "df_dataFailure.dtypes"
   ]
  }
 ],
 "metadata": {
  "kernelspec": {
   "display_name": "Python 3",
   "language": "python",
   "name": "python3"
  },
  "language_info": {
   "codemirror_mode": {
    "name": "ipython",
    "version": 3
   },
   "file_extension": ".py",
   "mimetype": "text/x-python",
   "name": "python",
   "nbconvert_exporter": "python",
   "pygments_lexer": "ipython3",
   "version": "3.7.1"
  }
 },
 "nbformat": 4,
 "nbformat_minor": 2
}
