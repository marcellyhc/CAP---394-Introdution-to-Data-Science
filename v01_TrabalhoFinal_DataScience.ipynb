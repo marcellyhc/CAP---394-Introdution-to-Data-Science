{
 "cells": [
  {
   "cell_type": "markdown",
   "metadata": {},
   "source": [
    "![title](titulo.png)"
   ]
  },
  {
   "cell_type": "markdown",
   "metadata": {},
   "source": [
    "**INSTITUTO NACIONAL DE PESQUISAS ESPACIAIS** \n",
    "\n",
    "Disciplina: Introdution to Data Science\n",
    "    \n",
    "Professores: Rafael Santos e Gilberto Queiroz\n",
    "    \n",
    "Acadêmica: Marcelly Homem Coelho\n",
    "    \n",
    "Contato: marcellyhc@gmail.com "
   ]
  },
  {
   "cell_type": "markdown",
   "metadata": {},
   "source": [
    "**Título:** Aplicação de Técnicas de Data Science no Desenvolvimento de um Sistema para Manutenção Aeronáutica Baseada em Condição \n",
    "\n",
    "**Descrição:** Este programa tem como objetivo analisar as mensagens de falha e as remoções dos sistemas das aeronaves."
   ]
  },
  {
   "cell_type": "code",
   "execution_count": 1,
   "metadata": {},
   "outputs": [
    {
     "data": {
      "text/html": [
       "        <script type=\"text/javascript\">\n",
       "        window.PlotlyConfig = {MathJaxConfig: 'local'};\n",
       "        if (window.MathJax) {MathJax.Hub.Config({SVG: {font: \"STIX-Web\"}});}\n",
       "        if (typeof require !== 'undefined') {\n",
       "        require.undef(\"plotly\");\n",
       "        requirejs.config({\n",
       "            paths: {\n",
       "                'plotly': ['https://cdn.plot.ly/plotly-latest.min']\n",
       "            }\n",
       "        });\n",
       "        require(['plotly'], function(Plotly) {\n",
       "            window._Plotly = Plotly;\n",
       "        });\n",
       "        }\n",
       "        </script>\n",
       "        "
      ]
     },
     "metadata": {},
     "output_type": "display_data"
    }
   ],
   "source": [
    "# Importar as bibliotecas\n",
    "\n",
    "import numpy as np\n",
    "import pandas as pd\n",
    "import seaborn as sns\n",
    "\n",
    "import random\n",
    "\n",
    "import plotly.offline as py\n",
    "import plotly.graph_objs as go\n",
    "py.init_notebook_mode(connected=True)\n",
    "\n",
    "import matplotlib.pyplot as plt\n",
    "%matplotlib inline"
   ]
  },
  {
   "cell_type": "markdown",
   "metadata": {},
   "source": [
    "# 1. Investigação Inicial da Estrutura e Conteúdo do Arquivo de Falha"
   ]
  },
  {
   "cell_type": "code",
   "execution_count": 2,
   "metadata": {},
   "outputs": [],
   "source": [
    "# Criar um dataframe para entrada de dados de falha (arquivo do tipo .csv)\n",
    "\n",
    "df_dataFailure = pd.read_csv('Data_Failure_Code.csv')   "
   ]
  },
  {
   "cell_type": "code",
   "execution_count": 3,
   "metadata": {},
   "outputs": [
    {
     "data": {
      "text/html": [
       "<div>\n",
       "<style scoped>\n",
       "    .dataframe tbody tr th:only-of-type {\n",
       "        vertical-align: middle;\n",
       "    }\n",
       "\n",
       "    .dataframe tbody tr th {\n",
       "        vertical-align: top;\n",
       "    }\n",
       "\n",
       "    .dataframe thead th {\n",
       "        text-align: right;\n",
       "    }\n",
       "</style>\n",
       "<table border=\"1\" class=\"dataframe\">\n",
       "  <thead>\n",
       "    <tr style=\"text-align: right;\">\n",
       "      <th></th>\n",
       "      <th>Aircraft;Flight Phase;Date;Fault Text;Report Maintenance</th>\n",
       "    </tr>\n",
       "  </thead>\n",
       "  <tbody>\n",
       "    <tr>\n",
       "      <th>0</th>\n",
       "      <td>2640;;14/05/2006 16:19;FDE_Outhers02;</td>\n",
       "    </tr>\n",
       "    <tr>\n",
       "      <th>1</th>\n",
       "      <td>2640;Enroute Cruise;01/07/2006 15:17;FDE_B_Sys...</td>\n",
       "    </tr>\n",
       "    <tr>\n",
       "      <th>2</th>\n",
       "      <td>2640;Enroute Cruise;01/07/2006 15:17;FDE_C_Sys...</td>\n",
       "    </tr>\n",
       "    <tr>\n",
       "      <th>3</th>\n",
       "      <td>2640;Enroute Cruise;02/07/2006 04:48;FDE_B_Sys...</td>\n",
       "    </tr>\n",
       "    <tr>\n",
       "      <th>4</th>\n",
       "      <td>2640;Enroute Cruise;02/07/2006 04:48;FDE_C_Sys...</td>\n",
       "    </tr>\n",
       "  </tbody>\n",
       "</table>\n",
       "</div>"
      ],
      "text/plain": [
       "  Aircraft;Flight Phase;Date;Fault Text;Report Maintenance\n",
       "0              2640;;14/05/2006 16:19;FDE_Outhers02;      \n",
       "1  2640;Enroute Cruise;01/07/2006 15:17;FDE_B_Sys...      \n",
       "2  2640;Enroute Cruise;01/07/2006 15:17;FDE_C_Sys...      \n",
       "3  2640;Enroute Cruise;02/07/2006 04:48;FDE_B_Sys...      \n",
       "4  2640;Enroute Cruise;02/07/2006 04:48;FDE_C_Sys...      "
      ]
     },
     "execution_count": 3,
     "metadata": {},
     "output_type": "execute_result"
    }
   ],
   "source": [
    "# Exibir o cabeçalho do dataframe\n",
    "\n",
    "df_dataFailure.head()"
   ]
  },
  {
   "cell_type": "code",
   "execution_count": 4,
   "metadata": {},
   "outputs": [],
   "source": [
    "# Separar o dataframe por colunas \n",
    "\n",
    "df_dataFailure = df_dataFailure['Aircraft;Flight Phase;Date;Fault Text;Report Maintenance'].str.split(';', expand=True)"
   ]
  },
  {
   "cell_type": "code",
   "execution_count": 5,
   "metadata": {},
   "outputs": [
    {
     "data": {
      "text/html": [
       "<div>\n",
       "<style scoped>\n",
       "    .dataframe tbody tr th:only-of-type {\n",
       "        vertical-align: middle;\n",
       "    }\n",
       "\n",
       "    .dataframe tbody tr th {\n",
       "        vertical-align: top;\n",
       "    }\n",
       "\n",
       "    .dataframe thead th {\n",
       "        text-align: right;\n",
       "    }\n",
       "</style>\n",
       "<table border=\"1\" class=\"dataframe\">\n",
       "  <thead>\n",
       "    <tr style=\"text-align: right;\">\n",
       "      <th></th>\n",
       "      <th>0</th>\n",
       "      <th>1</th>\n",
       "      <th>2</th>\n",
       "      <th>3</th>\n",
       "      <th>4</th>\n",
       "    </tr>\n",
       "  </thead>\n",
       "  <tbody>\n",
       "    <tr>\n",
       "      <th>0</th>\n",
       "      <td>2640</td>\n",
       "      <td></td>\n",
       "      <td>14/05/2006 16:19</td>\n",
       "      <td>FDE_Outhers02</td>\n",
       "      <td></td>\n",
       "    </tr>\n",
       "    <tr>\n",
       "      <th>1</th>\n",
       "      <td>2640</td>\n",
       "      <td>Enroute Cruise</td>\n",
       "      <td>01/07/2006 15:17</td>\n",
       "      <td>FDE_B_System3</td>\n",
       "      <td>RMA_A_System3</td>\n",
       "    </tr>\n",
       "    <tr>\n",
       "      <th>2</th>\n",
       "      <td>2640</td>\n",
       "      <td>Enroute Cruise</td>\n",
       "      <td>01/07/2006 15:17</td>\n",
       "      <td>FDE_C_System3</td>\n",
       "      <td>RMA_A_System3</td>\n",
       "    </tr>\n",
       "    <tr>\n",
       "      <th>3</th>\n",
       "      <td>2640</td>\n",
       "      <td>Enroute Cruise</td>\n",
       "      <td>02/07/2006 04:48</td>\n",
       "      <td>FDE_B_System3</td>\n",
       "      <td>RMA_A_System3</td>\n",
       "    </tr>\n",
       "    <tr>\n",
       "      <th>4</th>\n",
       "      <td>2640</td>\n",
       "      <td>Enroute Cruise</td>\n",
       "      <td>02/07/2006 04:48</td>\n",
       "      <td>FDE_C_System3</td>\n",
       "      <td>RMA_A_System3</td>\n",
       "    </tr>\n",
       "  </tbody>\n",
       "</table>\n",
       "</div>"
      ],
      "text/plain": [
       "      0               1                 2              3              4\n",
       "0  2640                  14/05/2006 16:19  FDE_Outhers02               \n",
       "1  2640  Enroute Cruise  01/07/2006 15:17  FDE_B_System3  RMA_A_System3\n",
       "2  2640  Enroute Cruise  01/07/2006 15:17  FDE_C_System3  RMA_A_System3\n",
       "3  2640  Enroute Cruise  02/07/2006 04:48  FDE_B_System3  RMA_A_System3\n",
       "4  2640  Enroute Cruise  02/07/2006 04:48  FDE_C_System3  RMA_A_System3"
      ]
     },
     "execution_count": 5,
     "metadata": {},
     "output_type": "execute_result"
    }
   ],
   "source": [
    "# Exibir o cabeçalho do dataframe\n",
    "\n",
    "df_dataFailure.head()"
   ]
  },
  {
   "cell_type": "code",
   "execution_count": 6,
   "metadata": {},
   "outputs": [],
   "source": [
    "# Renomear as colunas do dataframe\n",
    "\n",
    "df_dataFailure.columns = ['Aircraft', 'Flight Phase', 'Date', 'Fault Text', 'Report Maintenance']  "
   ]
  },
  {
   "cell_type": "code",
   "execution_count": 7,
   "metadata": {},
   "outputs": [
    {
     "data": {
      "text/html": [
       "<div>\n",
       "<style scoped>\n",
       "    .dataframe tbody tr th:only-of-type {\n",
       "        vertical-align: middle;\n",
       "    }\n",
       "\n",
       "    .dataframe tbody tr th {\n",
       "        vertical-align: top;\n",
       "    }\n",
       "\n",
       "    .dataframe thead th {\n",
       "        text-align: right;\n",
       "    }\n",
       "</style>\n",
       "<table border=\"1\" class=\"dataframe\">\n",
       "  <thead>\n",
       "    <tr style=\"text-align: right;\">\n",
       "      <th></th>\n",
       "      <th>Aircraft</th>\n",
       "      <th>Flight Phase</th>\n",
       "      <th>Date</th>\n",
       "      <th>Fault Text</th>\n",
       "      <th>Report Maintenance</th>\n",
       "    </tr>\n",
       "  </thead>\n",
       "  <tbody>\n",
       "    <tr>\n",
       "      <th>0</th>\n",
       "      <td>2640</td>\n",
       "      <td></td>\n",
       "      <td>14/05/2006 16:19</td>\n",
       "      <td>FDE_Outhers02</td>\n",
       "      <td></td>\n",
       "    </tr>\n",
       "    <tr>\n",
       "      <th>1</th>\n",
       "      <td>2640</td>\n",
       "      <td>Enroute Cruise</td>\n",
       "      <td>01/07/2006 15:17</td>\n",
       "      <td>FDE_B_System3</td>\n",
       "      <td>RMA_A_System3</td>\n",
       "    </tr>\n",
       "    <tr>\n",
       "      <th>2</th>\n",
       "      <td>2640</td>\n",
       "      <td>Enroute Cruise</td>\n",
       "      <td>01/07/2006 15:17</td>\n",
       "      <td>FDE_C_System3</td>\n",
       "      <td>RMA_A_System3</td>\n",
       "    </tr>\n",
       "    <tr>\n",
       "      <th>3</th>\n",
       "      <td>2640</td>\n",
       "      <td>Enroute Cruise</td>\n",
       "      <td>02/07/2006 04:48</td>\n",
       "      <td>FDE_B_System3</td>\n",
       "      <td>RMA_A_System3</td>\n",
       "    </tr>\n",
       "    <tr>\n",
       "      <th>4</th>\n",
       "      <td>2640</td>\n",
       "      <td>Enroute Cruise</td>\n",
       "      <td>02/07/2006 04:48</td>\n",
       "      <td>FDE_C_System3</td>\n",
       "      <td>RMA_A_System3</td>\n",
       "    </tr>\n",
       "  </tbody>\n",
       "</table>\n",
       "</div>"
      ],
      "text/plain": [
       "  Aircraft    Flight Phase              Date     Fault Text Report Maintenance\n",
       "0     2640                  14/05/2006 16:19  FDE_Outhers02                   \n",
       "1     2640  Enroute Cruise  01/07/2006 15:17  FDE_B_System3      RMA_A_System3\n",
       "2     2640  Enroute Cruise  01/07/2006 15:17  FDE_C_System3      RMA_A_System3\n",
       "3     2640  Enroute Cruise  02/07/2006 04:48  FDE_B_System3      RMA_A_System3\n",
       "4     2640  Enroute Cruise  02/07/2006 04:48  FDE_C_System3      RMA_A_System3"
      ]
     },
     "execution_count": 7,
     "metadata": {},
     "output_type": "execute_result"
    }
   ],
   "source": [
    "# Exibir o cabeçalho do dataframe\n",
    "\n",
    "df_dataFailure.head()"
   ]
  },
  {
   "cell_type": "code",
   "execution_count": 8,
   "metadata": {},
   "outputs": [
    {
     "data": {
      "text/plain": [
       "(7238, 5)"
      ]
     },
     "execution_count": 8,
     "metadata": {},
     "output_type": "execute_result"
    }
   ],
   "source": [
    "# Verifica a dimensão do dataframe (qtd linhas, qtd colunas)\n",
    "\n",
    "df_dataFailure.shape"
   ]
  },
  {
   "cell_type": "code",
   "execution_count": 9,
   "metadata": {},
   "outputs": [
    {
     "data": {
      "text/plain": [
       "Aircraft              object\n",
       "Flight Phase          object\n",
       "Date                  object\n",
       "Fault Text            object\n",
       "Report Maintenance    object\n",
       "dtype: object"
      ]
     },
     "execution_count": 9,
     "metadata": {},
     "output_type": "execute_result"
    }
   ],
   "source": [
    "# Verificar o tipo de dado de cada coluna do dataframe\n",
    "\n",
    "df_dataFailure.dtypes"
   ]
  },
  {
   "cell_type": "code",
   "execution_count": 10,
   "metadata": {},
   "outputs": [],
   "source": [
    "# Converter os dados da coluna 'Aircraft' para o formato inteiro\n",
    "\n",
    "df_dataFailure['Aircraft'] = df_dataFailure['Aircraft'].astype(int)"
   ]
  },
  {
   "cell_type": "code",
   "execution_count": 11,
   "metadata": {},
   "outputs": [],
   "source": [
    "# Converter os dados da coluna 'Date' para o formato de data-hora\n",
    "\n",
    "df_dataFailure['Date'] =  pd.to_datetime(df_dataFailure['Date'], format='%d/%m/%Y %H:%M')"
   ]
  },
  {
   "cell_type": "code",
   "execution_count": 12,
   "metadata": {},
   "outputs": [
    {
     "data": {
      "text/plain": [
       "Aircraft                       int32\n",
       "Flight Phase                  object\n",
       "Date                  datetime64[ns]\n",
       "Fault Text                    object\n",
       "Report Maintenance            object\n",
       "dtype: object"
      ]
     },
     "execution_count": 12,
     "metadata": {},
     "output_type": "execute_result"
    }
   ],
   "source": [
    "# Verificar o tipo de dado de cada coluna do dataframe\n",
    "\n",
    "df_dataFailure.dtypes"
   ]
  },
  {
   "cell_type": "code",
   "execution_count": 13,
   "metadata": {},
   "outputs": [
    {
     "data": {
      "text/plain": [
       "15"
      ]
     },
     "execution_count": 13,
     "metadata": {},
     "output_type": "execute_result"
    }
   ],
   "source": [
    "# Determinar quantas 'Flight Phase' diferentes há no dataframe\n",
    "\n",
    "len(df_dataFailure['Aircraft'].unique())"
   ]
  },
  {
   "cell_type": "code",
   "execution_count": 14,
   "metadata": {},
   "outputs": [
    {
     "data": {
      "text/plain": [
       "2766    1059\n",
       "1950     728\n",
       "1990     668\n",
       "1151     626\n",
       "2640     560\n",
       "326      475\n",
       "131      465\n",
       "2436     421\n",
       "1419     419\n",
       "791      417\n",
       "2838     369\n",
       "2209     324\n",
       "312      268\n",
       "1710     243\n",
       "2982     196\n",
       "Name: Aircraft, dtype: int64"
      ]
     },
     "execution_count": 14,
     "metadata": {},
     "output_type": "execute_result"
    }
   ],
   "source": [
    "# Verificar quais 'Aircraft' apresentaram maior quantidade de Mensagens de Falha  \n",
    "\n",
    "df_dataFailure['Aircraft'].value_counts()"
   ]
  },
  {
   "cell_type": "markdown",
   "metadata": {},
   "source": [
    "$\\color{red}{\\text{OBSERVAÇÃO:}}$ O Aircraft igual a 2766 é o que apresenta a maior quantidade de Fault Text. Além disso, é o segundo em relação a quantidade de remoções de peças."
   ]
  },
  {
   "cell_type": "markdown",
   "metadata": {},
   "source": [
    "## 1.1 Análise das Mensagens de Falha de um Aircraft Específico"
   ]
  },
  {
   "cell_type": "code",
   "execution_count": 15,
   "metadata": {},
   "outputs": [],
   "source": [
    "# Definir uma variável para a seleção de um arcraft específico\n",
    "\n",
    "var_aircraftSelected = 2766"
   ]
  },
  {
   "cell_type": "code",
   "execution_count": 16,
   "metadata": {},
   "outputs": [],
   "source": [
    "# Criar um dataframe para o aircraft específico \n",
    "\n",
    "df_dataFailure_airSelec = df_dataFailure[df_dataFailure['Aircraft'] == var_aircraftSelected]"
   ]
  },
  {
   "cell_type": "code",
   "execution_count": 17,
   "metadata": {},
   "outputs": [
    {
     "data": {
      "text/html": [
       "<div>\n",
       "<style scoped>\n",
       "    .dataframe tbody tr th:only-of-type {\n",
       "        vertical-align: middle;\n",
       "    }\n",
       "\n",
       "    .dataframe tbody tr th {\n",
       "        vertical-align: top;\n",
       "    }\n",
       "\n",
       "    .dataframe thead th {\n",
       "        text-align: right;\n",
       "    }\n",
       "</style>\n",
       "<table border=\"1\" class=\"dataframe\">\n",
       "  <thead>\n",
       "    <tr style=\"text-align: right;\">\n",
       "      <th></th>\n",
       "      <th>Aircraft</th>\n",
       "      <th>Flight Phase</th>\n",
       "      <th>Date</th>\n",
       "      <th>Fault Text</th>\n",
       "      <th>Report Maintenance</th>\n",
       "    </tr>\n",
       "  </thead>\n",
       "  <tbody>\n",
       "    <tr>\n",
       "      <th>1492</th>\n",
       "      <td>2766</td>\n",
       "      <td>Power On</td>\n",
       "      <td>2006-04-19 13:29:00</td>\n",
       "      <td>FDE_Outhers00</td>\n",
       "      <td>RMA_Others04</td>\n",
       "    </tr>\n",
       "    <tr>\n",
       "      <th>1493</th>\n",
       "      <td>2766</td>\n",
       "      <td>Power On</td>\n",
       "      <td>2006-04-19 13:29:00</td>\n",
       "      <td>FDE_Outhers00</td>\n",
       "      <td>RMA_Others04</td>\n",
       "    </tr>\n",
       "    <tr>\n",
       "      <th>1494</th>\n",
       "      <td>2766</td>\n",
       "      <td>Power On</td>\n",
       "      <td>2006-04-21 16:12:00</td>\n",
       "      <td>FDE_Outhers00</td>\n",
       "      <td>RMA_Others04</td>\n",
       "    </tr>\n",
       "    <tr>\n",
       "      <th>1495</th>\n",
       "      <td>2766</td>\n",
       "      <td>Power On</td>\n",
       "      <td>2006-04-21 16:12:00</td>\n",
       "      <td>FDE_Outhers00</td>\n",
       "      <td>RMA_Others04</td>\n",
       "    </tr>\n",
       "    <tr>\n",
       "      <th>1496</th>\n",
       "      <td>2766</td>\n",
       "      <td>Initial Climb</td>\n",
       "      <td>2006-04-22 19:59:00</td>\n",
       "      <td>FDE_E_System1</td>\n",
       "      <td>RMA_F_System1</td>\n",
       "    </tr>\n",
       "  </tbody>\n",
       "</table>\n",
       "</div>"
      ],
      "text/plain": [
       "      Aircraft   Flight Phase                Date     Fault Text  \\\n",
       "1492      2766       Power On 2006-04-19 13:29:00  FDE_Outhers00   \n",
       "1493      2766       Power On 2006-04-19 13:29:00  FDE_Outhers00   \n",
       "1494      2766       Power On 2006-04-21 16:12:00  FDE_Outhers00   \n",
       "1495      2766       Power On 2006-04-21 16:12:00  FDE_Outhers00   \n",
       "1496      2766  Initial Climb 2006-04-22 19:59:00  FDE_E_System1   \n",
       "\n",
       "     Report Maintenance  \n",
       "1492       RMA_Others04  \n",
       "1493       RMA_Others04  \n",
       "1494       RMA_Others04  \n",
       "1495       RMA_Others04  \n",
       "1496      RMA_F_System1  "
      ]
     },
     "execution_count": 17,
     "metadata": {},
     "output_type": "execute_result"
    }
   ],
   "source": [
    "# Exibir o cabeçalho do dataframe\n",
    "\n",
    "df_dataFailure_airSelec.head()"
   ]
  },
  {
   "cell_type": "markdown",
   "metadata": {},
   "source": [
    "# 2. Investigação Inicial da Estrutura e Conteúdo do Arquivo de Remoção"
   ]
  },
  {
   "cell_type": "code",
   "execution_count": 18,
   "metadata": {},
   "outputs": [],
   "source": [
    "# Criar um dataframe para entrada de dados de remoção (arquivo do tipo .csv)\n",
    "\n",
    "df_dataRemoval = pd.read_csv('Data_Removal_Code.csv')  "
   ]
  },
  {
   "cell_type": "code",
   "execution_count": 19,
   "metadata": {},
   "outputs": [
    {
     "data": {
      "text/html": [
       "<div>\n",
       "<style scoped>\n",
       "    .dataframe tbody tr th:only-of-type {\n",
       "        vertical-align: middle;\n",
       "    }\n",
       "\n",
       "    .dataframe tbody tr th {\n",
       "        vertical-align: top;\n",
       "    }\n",
       "\n",
       "    .dataframe thead th {\n",
       "        text-align: right;\n",
       "    }\n",
       "</style>\n",
       "<table border=\"1\" class=\"dataframe\">\n",
       "  <thead>\n",
       "    <tr style=\"text-align: right;\">\n",
       "      <th></th>\n",
       "      <th>Aircraft;Component;System;Date;Reason;Time Hours; Time Cycles</th>\n",
       "    </tr>\n",
       "  </thead>\n",
       "  <tbody>\n",
       "    <tr>\n",
       "      <th>0</th>\n",
       "      <td>1140;MME_Component_A;System1;29/05/2006;3;1181...</td>\n",
       "    </tr>\n",
       "    <tr>\n",
       "      <th>1</th>\n",
       "      <td>1140;MME_Component_A;System1;29/05/2006;3;1181...</td>\n",
       "    </tr>\n",
       "    <tr>\n",
       "      <th>2</th>\n",
       "      <td>1140;MME_Component_B;System1;29/05/2006;3;1092...</td>\n",
       "    </tr>\n",
       "    <tr>\n",
       "      <th>3</th>\n",
       "      <td>1140;MME_Component_B;System3;24/06/2006;3;312;37</td>\n",
       "    </tr>\n",
       "    <tr>\n",
       "      <th>4</th>\n",
       "      <td>1140;MME_Component_B;System3;10/07/2006;3;1186...</td>\n",
       "    </tr>\n",
       "  </tbody>\n",
       "</table>\n",
       "</div>"
      ],
      "text/plain": [
       "  Aircraft;Component;System;Date;Reason;Time Hours; Time Cycles\n",
       "0  1140;MME_Component_A;System1;29/05/2006;3;1181...           \n",
       "1  1140;MME_Component_A;System1;29/05/2006;3;1181...           \n",
       "2  1140;MME_Component_B;System1;29/05/2006;3;1092...           \n",
       "3   1140;MME_Component_B;System3;24/06/2006;3;312;37           \n",
       "4  1140;MME_Component_B;System3;10/07/2006;3;1186...           "
      ]
     },
     "execution_count": 19,
     "metadata": {},
     "output_type": "execute_result"
    }
   ],
   "source": [
    "# Exibir do cabeçalho do dataframe\n",
    "\n",
    "df_dataRemoval.head()"
   ]
  },
  {
   "cell_type": "code",
   "execution_count": 20,
   "metadata": {},
   "outputs": [],
   "source": [
    "# Separar o dataframe por colunas \n",
    "\n",
    "df_dataRemoval = df_dataRemoval['Aircraft;Component;System;Date;Reason;Time Hours; Time Cycles'].str.split(';', expand=True)"
   ]
  },
  {
   "cell_type": "code",
   "execution_count": 21,
   "metadata": {},
   "outputs": [
    {
     "data": {
      "text/html": [
       "<div>\n",
       "<style scoped>\n",
       "    .dataframe tbody tr th:only-of-type {\n",
       "        vertical-align: middle;\n",
       "    }\n",
       "\n",
       "    .dataframe tbody tr th {\n",
       "        vertical-align: top;\n",
       "    }\n",
       "\n",
       "    .dataframe thead th {\n",
       "        text-align: right;\n",
       "    }\n",
       "</style>\n",
       "<table border=\"1\" class=\"dataframe\">\n",
       "  <thead>\n",
       "    <tr style=\"text-align: right;\">\n",
       "      <th></th>\n",
       "      <th>0</th>\n",
       "      <th>1</th>\n",
       "      <th>2</th>\n",
       "      <th>3</th>\n",
       "      <th>4</th>\n",
       "      <th>5</th>\n",
       "      <th>6</th>\n",
       "    </tr>\n",
       "  </thead>\n",
       "  <tbody>\n",
       "    <tr>\n",
       "      <th>0</th>\n",
       "      <td>1140</td>\n",
       "      <td>MME_Component_A</td>\n",
       "      <td>System1</td>\n",
       "      <td>29/05/2006</td>\n",
       "      <td>3</td>\n",
       "      <td>118123</td>\n",
       "      <td>15961</td>\n",
       "    </tr>\n",
       "    <tr>\n",
       "      <th>1</th>\n",
       "      <td>1140</td>\n",
       "      <td>MME_Component_A</td>\n",
       "      <td>System1</td>\n",
       "      <td>29/05/2006</td>\n",
       "      <td>3</td>\n",
       "      <td>118123</td>\n",
       "      <td>15961</td>\n",
       "    </tr>\n",
       "    <tr>\n",
       "      <th>2</th>\n",
       "      <td>1140</td>\n",
       "      <td>MME_Component_B</td>\n",
       "      <td>System1</td>\n",
       "      <td>29/05/2006</td>\n",
       "      <td>3</td>\n",
       "      <td>1092</td>\n",
       "      <td>139</td>\n",
       "    </tr>\n",
       "    <tr>\n",
       "      <th>3</th>\n",
       "      <td>1140</td>\n",
       "      <td>MME_Component_B</td>\n",
       "      <td>System3</td>\n",
       "      <td>24/06/2006</td>\n",
       "      <td>3</td>\n",
       "      <td>312</td>\n",
       "      <td>37</td>\n",
       "    </tr>\n",
       "    <tr>\n",
       "      <th>4</th>\n",
       "      <td>1140</td>\n",
       "      <td>MME_Component_B</td>\n",
       "      <td>System3</td>\n",
       "      <td>10/07/2006</td>\n",
       "      <td>3</td>\n",
       "      <td>118698</td>\n",
       "      <td>16028</td>\n",
       "    </tr>\n",
       "  </tbody>\n",
       "</table>\n",
       "</div>"
      ],
      "text/plain": [
       "      0                1        2           3  4       5      6\n",
       "0  1140  MME_Component_A  System1  29/05/2006  3  118123  15961\n",
       "1  1140  MME_Component_A  System1  29/05/2006  3  118123  15961\n",
       "2  1140  MME_Component_B  System1  29/05/2006  3    1092    139\n",
       "3  1140  MME_Component_B  System3  24/06/2006  3     312     37\n",
       "4  1140  MME_Component_B  System3  10/07/2006  3  118698  16028"
      ]
     },
     "execution_count": 21,
     "metadata": {},
     "output_type": "execute_result"
    }
   ],
   "source": [
    "# Exibir o cabeçalho do dataframe\n",
    "\n",
    "df_dataRemoval.head()"
   ]
  },
  {
   "cell_type": "code",
   "execution_count": 22,
   "metadata": {},
   "outputs": [],
   "source": [
    "# Renomear as colunas do dataframe\n",
    "\n",
    "df_dataRemoval.columns = ['Aircraft', 'Component', 'System', 'Date', 'Reason', 'Time Hours', 'Time Cycles']  "
   ]
  },
  {
   "cell_type": "code",
   "execution_count": 23,
   "metadata": {},
   "outputs": [
    {
     "data": {
      "text/html": [
       "<div>\n",
       "<style scoped>\n",
       "    .dataframe tbody tr th:only-of-type {\n",
       "        vertical-align: middle;\n",
       "    }\n",
       "\n",
       "    .dataframe tbody tr th {\n",
       "        vertical-align: top;\n",
       "    }\n",
       "\n",
       "    .dataframe thead th {\n",
       "        text-align: right;\n",
       "    }\n",
       "</style>\n",
       "<table border=\"1\" class=\"dataframe\">\n",
       "  <thead>\n",
       "    <tr style=\"text-align: right;\">\n",
       "      <th></th>\n",
       "      <th>Aircraft</th>\n",
       "      <th>Component</th>\n",
       "      <th>System</th>\n",
       "      <th>Date</th>\n",
       "      <th>Reason</th>\n",
       "      <th>Time Hours</th>\n",
       "      <th>Time Cycles</th>\n",
       "    </tr>\n",
       "  </thead>\n",
       "  <tbody>\n",
       "    <tr>\n",
       "      <th>0</th>\n",
       "      <td>1140</td>\n",
       "      <td>MME_Component_A</td>\n",
       "      <td>System1</td>\n",
       "      <td>29/05/2006</td>\n",
       "      <td>3</td>\n",
       "      <td>118123</td>\n",
       "      <td>15961</td>\n",
       "    </tr>\n",
       "    <tr>\n",
       "      <th>1</th>\n",
       "      <td>1140</td>\n",
       "      <td>MME_Component_A</td>\n",
       "      <td>System1</td>\n",
       "      <td>29/05/2006</td>\n",
       "      <td>3</td>\n",
       "      <td>118123</td>\n",
       "      <td>15961</td>\n",
       "    </tr>\n",
       "    <tr>\n",
       "      <th>2</th>\n",
       "      <td>1140</td>\n",
       "      <td>MME_Component_B</td>\n",
       "      <td>System1</td>\n",
       "      <td>29/05/2006</td>\n",
       "      <td>3</td>\n",
       "      <td>1092</td>\n",
       "      <td>139</td>\n",
       "    </tr>\n",
       "    <tr>\n",
       "      <th>3</th>\n",
       "      <td>1140</td>\n",
       "      <td>MME_Component_B</td>\n",
       "      <td>System3</td>\n",
       "      <td>24/06/2006</td>\n",
       "      <td>3</td>\n",
       "      <td>312</td>\n",
       "      <td>37</td>\n",
       "    </tr>\n",
       "    <tr>\n",
       "      <th>4</th>\n",
       "      <td>1140</td>\n",
       "      <td>MME_Component_B</td>\n",
       "      <td>System3</td>\n",
       "      <td>10/07/2006</td>\n",
       "      <td>3</td>\n",
       "      <td>118698</td>\n",
       "      <td>16028</td>\n",
       "    </tr>\n",
       "  </tbody>\n",
       "</table>\n",
       "</div>"
      ],
      "text/plain": [
       "  Aircraft        Component   System        Date Reason Time Hours Time Cycles\n",
       "0     1140  MME_Component_A  System1  29/05/2006      3     118123       15961\n",
       "1     1140  MME_Component_A  System1  29/05/2006      3     118123       15961\n",
       "2     1140  MME_Component_B  System1  29/05/2006      3       1092         139\n",
       "3     1140  MME_Component_B  System3  24/06/2006      3        312          37\n",
       "4     1140  MME_Component_B  System3  10/07/2006      3     118698       16028"
      ]
     },
     "execution_count": 23,
     "metadata": {},
     "output_type": "execute_result"
    }
   ],
   "source": [
    "# Exibir o cabeçalho do dataframe\n",
    "\n",
    "df_dataRemoval.head()"
   ]
  },
  {
   "cell_type": "code",
   "execution_count": 24,
   "metadata": {},
   "outputs": [
    {
     "data": {
      "text/plain": [
       "(1284, 7)"
      ]
     },
     "execution_count": 24,
     "metadata": {},
     "output_type": "execute_result"
    }
   ],
   "source": [
    "# Verifica a dimensão do dataframe (qtd linhas, qtd colunas)\n",
    "\n",
    "df_dataRemoval.shape"
   ]
  },
  {
   "cell_type": "code",
   "execution_count": 25,
   "metadata": {},
   "outputs": [
    {
     "data": {
      "text/plain": [
       "Aircraft       object\n",
       "Component      object\n",
       "System         object\n",
       "Date           object\n",
       "Reason         object\n",
       "Time Hours     object\n",
       "Time Cycles    object\n",
       "dtype: object"
      ]
     },
     "execution_count": 25,
     "metadata": {},
     "output_type": "execute_result"
    }
   ],
   "source": [
    "# Verificar o tipo de dado de cada coluna do dataframe\n",
    "\n",
    "df_dataRemoval.dtypes"
   ]
  },
  {
   "cell_type": "code",
   "execution_count": 26,
   "metadata": {},
   "outputs": [],
   "source": [
    "# Converter os dados da coluna 'Aircraft' e 'Reason' para o formato inteiro\n",
    "\n",
    "df_dataRemoval['Aircraft'] = df_dataRemoval['Aircraft'].astype(int)\n",
    "df_dataRemoval['Reason']   = df_dataRemoval['Reason'].astype(int)"
   ]
  },
  {
   "cell_type": "code",
   "execution_count": 27,
   "metadata": {},
   "outputs": [],
   "source": [
    "# Converter os dados das colunas 'Time Hours' e 'Time Cycles' para o formato float\n",
    "\n",
    "df_dataRemoval['Time Hours']  = df_dataRemoval['Time Hours'].astype(float)\n",
    "df_dataRemoval['Time Cycles'] = df_dataRemoval['Time Cycles'].astype(float)"
   ]
  },
  {
   "cell_type": "code",
   "execution_count": 28,
   "metadata": {},
   "outputs": [],
   "source": [
    "# Converter os dados da coluna 'Date' para o formato de data\n",
    "\n",
    "df_dataRemoval['Date'] =  pd.to_datetime(df_dataRemoval['Date'], format='%d/%m/%Y')"
   ]
  },
  {
   "cell_type": "code",
   "execution_count": 29,
   "metadata": {},
   "outputs": [
    {
     "data": {
      "text/plain": [
       "Aircraft                int32\n",
       "Component              object\n",
       "System                 object\n",
       "Date           datetime64[ns]\n",
       "Reason                  int32\n",
       "Time Hours            float64\n",
       "Time Cycles           float64\n",
       "dtype: object"
      ]
     },
     "execution_count": 29,
     "metadata": {},
     "output_type": "execute_result"
    }
   ],
   "source": [
    "# Verificar o tipo de dado de cada coluna do dataframe\n",
    "\n",
    "df_dataRemoval.dtypes"
   ]
  },
  {
   "cell_type": "code",
   "execution_count": 30,
   "metadata": {},
   "outputs": [
    {
     "data": {
      "text/plain": [
       "17"
      ]
     },
     "execution_count": 30,
     "metadata": {},
     "output_type": "execute_result"
    }
   ],
   "source": [
    "# Determinar quantos 'Component' diferentes há no dataframe\n",
    "\n",
    "len(df_dataRemoval['Component'].unique())"
   ]
  },
  {
   "cell_type": "code",
   "execution_count": 31,
   "metadata": {},
   "outputs": [
    {
     "data": {
      "text/plain": [
       "MME_Component_B    270\n",
       "MME_Component_A    210\n",
       "MME_Component_D    177\n",
       "MME_Component_F    113\n",
       "MME_Component_J     87\n",
       "MME_Component_G     86\n",
       "MME_Component_H     77\n",
       "MME_Component_I     64\n",
       "MME_Component_N     45\n",
       "MME_Component_E     38\n",
       "MME_Component_L     37\n",
       "MME_Component_K     25\n",
       "MME_Component_O     22\n",
       "MME_Component_M     19\n",
       "MME_Component_C      6\n",
       "MME_Component_P      5\n",
       "MME_Component_Q      3\n",
       "Name: Component, dtype: int64"
      ]
     },
     "execution_count": 31,
     "metadata": {},
     "output_type": "execute_result"
    }
   ],
   "source": [
    "# Verificar quais 'Component' foram mais trocados \n",
    "\n",
    "df_dataRemoval['Component'].value_counts()"
   ]
  },
  {
   "cell_type": "code",
   "execution_count": 32,
   "metadata": {},
   "outputs": [
    {
     "data": {
      "text/plain": [
       "2640    99\n",
       "2766    94\n",
       "2361    93\n",
       "2326    91\n",
       "2567    86\n",
       "1950    78\n",
       "2982    74\n",
       "1399    62\n",
       "2838    60\n",
       "2436    59\n",
       "131     55\n",
       "1151    54\n",
       "312     53\n",
       "1990    50\n",
       "1419    49\n",
       "736     46\n",
       "1710    41\n",
       "2209    39\n",
       "791     37\n",
       "326     30\n",
       "1140    25\n",
       "165      9\n",
       "Name: Aircraft, dtype: int64"
      ]
     },
     "execution_count": 32,
     "metadata": {},
     "output_type": "execute_result"
    }
   ],
   "source": [
    "# Verificar quais 'Aircraft' realizaram mais trocas de componentes  \n",
    "\n",
    "df_dataRemoval['Aircraft'].value_counts()"
   ]
  },
  {
   "cell_type": "markdown",
   "metadata": {},
   "source": [
    "## 2.1 Análise das Remoções de um Aircraft Específico"
   ]
  },
  {
   "cell_type": "code",
   "execution_count": 33,
   "metadata": {},
   "outputs": [],
   "source": [
    "# Criar um dataframe para o aircraft específico \n",
    "\n",
    "df_dataRemoval_airSelec = df_dataRemoval[df_dataRemoval['Aircraft'] == var_aircraftSelected]"
   ]
  },
  {
   "cell_type": "code",
   "execution_count": 34,
   "metadata": {},
   "outputs": [
    {
     "data": {
      "text/html": [
       "<div>\n",
       "<style scoped>\n",
       "    .dataframe tbody tr th:only-of-type {\n",
       "        vertical-align: middle;\n",
       "    }\n",
       "\n",
       "    .dataframe tbody tr th {\n",
       "        vertical-align: top;\n",
       "    }\n",
       "\n",
       "    .dataframe thead th {\n",
       "        text-align: right;\n",
       "    }\n",
       "</style>\n",
       "<table border=\"1\" class=\"dataframe\">\n",
       "  <thead>\n",
       "    <tr style=\"text-align: right;\">\n",
       "      <th></th>\n",
       "      <th>Aircraft</th>\n",
       "      <th>Component</th>\n",
       "      <th>System</th>\n",
       "      <th>Date</th>\n",
       "      <th>Reason</th>\n",
       "      <th>Time Hours</th>\n",
       "      <th>Time Cycles</th>\n",
       "    </tr>\n",
       "  </thead>\n",
       "  <tbody>\n",
       "    <tr>\n",
       "      <th>0</th>\n",
       "      <td>1140</td>\n",
       "      <td>MME_Component_A</td>\n",
       "      <td>System1</td>\n",
       "      <td>2006-05-29</td>\n",
       "      <td>3</td>\n",
       "      <td>118123.0</td>\n",
       "      <td>15961.0</td>\n",
       "    </tr>\n",
       "    <tr>\n",
       "      <th>1</th>\n",
       "      <td>1140</td>\n",
       "      <td>MME_Component_A</td>\n",
       "      <td>System1</td>\n",
       "      <td>2006-05-29</td>\n",
       "      <td>3</td>\n",
       "      <td>118123.0</td>\n",
       "      <td>15961.0</td>\n",
       "    </tr>\n",
       "    <tr>\n",
       "      <th>2</th>\n",
       "      <td>1140</td>\n",
       "      <td>MME_Component_B</td>\n",
       "      <td>System1</td>\n",
       "      <td>2006-05-29</td>\n",
       "      <td>3</td>\n",
       "      <td>1092.0</td>\n",
       "      <td>139.0</td>\n",
       "    </tr>\n",
       "    <tr>\n",
       "      <th>3</th>\n",
       "      <td>1140</td>\n",
       "      <td>MME_Component_B</td>\n",
       "      <td>System3</td>\n",
       "      <td>2006-06-24</td>\n",
       "      <td>3</td>\n",
       "      <td>312.0</td>\n",
       "      <td>37.0</td>\n",
       "    </tr>\n",
       "    <tr>\n",
       "      <th>4</th>\n",
       "      <td>1140</td>\n",
       "      <td>MME_Component_B</td>\n",
       "      <td>System3</td>\n",
       "      <td>2006-07-10</td>\n",
       "      <td>3</td>\n",
       "      <td>118698.0</td>\n",
       "      <td>16028.0</td>\n",
       "    </tr>\n",
       "  </tbody>\n",
       "</table>\n",
       "</div>"
      ],
      "text/plain": [
       "   Aircraft        Component   System       Date  Reason  Time Hours  \\\n",
       "0      1140  MME_Component_A  System1 2006-05-29       3    118123.0   \n",
       "1      1140  MME_Component_A  System1 2006-05-29       3    118123.0   \n",
       "2      1140  MME_Component_B  System1 2006-05-29       3      1092.0   \n",
       "3      1140  MME_Component_B  System3 2006-06-24       3       312.0   \n",
       "4      1140  MME_Component_B  System3 2006-07-10       3    118698.0   \n",
       "\n",
       "   Time Cycles  \n",
       "0      15961.0  \n",
       "1      15961.0  \n",
       "2        139.0  \n",
       "3         37.0  \n",
       "4      16028.0  "
      ]
     },
     "execution_count": 34,
     "metadata": {},
     "output_type": "execute_result"
    }
   ],
   "source": [
    "# Exibir o cabeçalho do dataframe\n",
    "\n",
    "df_dataRemoval.head()"
   ]
  }
 ],
 "metadata": {
  "kernelspec": {
   "display_name": "Python 3",
   "language": "python",
   "name": "python3"
  },
  "language_info": {
   "codemirror_mode": {
    "name": "ipython",
    "version": 3
   },
   "file_extension": ".py",
   "mimetype": "text/x-python",
   "name": "python",
   "nbconvert_exporter": "python",
   "pygments_lexer": "ipython3",
   "version": "3.7.1"
  }
 },
 "nbformat": 4,
 "nbformat_minor": 2
}
